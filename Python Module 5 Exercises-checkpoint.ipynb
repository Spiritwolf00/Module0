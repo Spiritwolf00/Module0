{
 "cells": [
  {
   "cell_type": "markdown",
   "metadata": {},
   "source": [
    "1. Create a dictionary named pairs with key value pairs of hello and fire, 3 and seven, strong and 45. Print out the dictionary."
   ]
  },
  {
   "cell_type": "code",
   "execution_count": 13,
   "metadata": {},
   "outputs": [
    {
     "name": "stdout",
     "output_type": "stream",
     "text": [
      "{'hello': 'fire', 3: 'seven', 'strong': 45}\n"
     ]
    }
   ],
   "source": [
    "pairs = {'hello':'fire',3:'seven','strong':45}\n",
    "print(pairs)"
   ]
  },
  {
   "cell_type": "markdown",
   "metadata": {},
   "source": [
    "2. Add welcome and 56 pair into pairs dictionary. Print out the dictionary. "
   ]
  },
  {
   "cell_type": "code",
   "execution_count": 14,
   "metadata": {},
   "outputs": [
    {
     "name": "stdout",
     "output_type": "stream",
     "text": [
      "{'hello': 'fire', 3: 'seven', 'strong': 45, 'welcome': 56}\n"
     ]
    }
   ],
   "source": [
    "pairs['welcome'] =56\n",
    "\n",
    "print(pairs)"
   ]
  },
  {
   "cell_type": "markdown",
   "metadata": {},
   "source": [
    "3. Delete one item from the Dictionary. Print deleted item and the dictionary."
   ]
  },
  {
   "cell_type": "code",
   "execution_count": 15,
   "metadata": {},
   "outputs": [
    {
     "name": "stdout",
     "output_type": "stream",
     "text": [
      "45\n",
      "{'hello': 'fire', 3: 'seven', 'welcome': 56}\n"
     ]
    }
   ],
   "source": [
    "strong = pairs.pop('strong')\n",
    "print(strong)\n",
    "print(pairs)"
   ]
  },
  {
   "cell_type": "markdown",
   "metadata": {},
   "source": [
    "4. Print the value of an item where key is 3 from the dicitonary"
   ]
  },
  {
   "cell_type": "code",
   "execution_count": 16,
   "metadata": {},
   "outputs": [
    {
     "name": "stdout",
     "output_type": "stream",
     "text": [
      "seven\n"
     ]
    }
   ],
   "source": [
    "print(pairs[3])"
   ]
  },
  {
   "cell_type": "markdown",
   "metadata": {},
   "source": [
    "5. Try to find out if the key called hello exist. Print out the key is found if it is there otherwise print out the key is not there."
   ]
  },
  {
   "cell_type": "code",
   "execution_count": 17,
   "metadata": {},
   "outputs": [
    {
     "data": {
      "text/plain": [
       "True"
      ]
     },
     "execution_count": 17,
     "metadata": {},
     "output_type": "execute_result"
    }
   ],
   "source": [
    "'hello' in pairs"
   ]
  },
  {
   "cell_type": "markdown",
   "metadata": {},
   "source": [
    "6. Loop through the dictionary and print out each value. "
   ]
  },
  {
   "cell_type": "code",
   "execution_count": 18,
   "metadata": {},
   "outputs": [
    {
     "name": "stdout",
     "output_type": "stream",
     "text": [
      "fire\n",
      "seven\n",
      "56\n"
     ]
    }
   ],
   "source": [
    "for i in pairs:\n",
    "    print(pairs[i])"
   ]
  },
  {
   "cell_type": "markdown",
   "metadata": {},
   "source": [
    "7. Loop through the dictionary and print out each key."
   ]
  },
  {
   "cell_type": "code",
   "execution_count": 19,
   "metadata": {},
   "outputs": [
    {
     "name": "stdout",
     "output_type": "stream",
     "text": [
      "hello\n",
      "3\n",
      "welcome\n"
     ]
    }
   ],
   "source": [
    "for item in pairs:\n",
    "    print(item)"
   ]
  },
  {
   "cell_type": "markdown",
   "metadata": {},
   "source": [
    "8. Loop through the dictionary and print out each key and value pair. "
   ]
  },
  {
   "cell_type": "code",
   "execution_count": 21,
   "metadata": {},
   "outputs": [
    {
     "name": "stdout",
     "output_type": "stream",
     "text": [
      "hello - fire\n",
      "3 - seven\n",
      "welcome - 56\n"
     ]
    }
   ],
   "source": [
    "for i in pairs:\n",
    "    print(f'{i} - {pairs[i]}')"
   ]
  },
  {
   "cell_type": "markdown",
   "metadata": {},
   "source": [
    "9. Make a nested dictionary called parent with 2 children's information: name, age, gender. Print out parent."
   ]
  },
  {
   "cell_type": "code",
   "execution_count": 24,
   "metadata": {},
   "outputs": [],
   "source": [
    "parent = {'chi1':{'name':'Timmy' ,'age': 12 ,'gender': 'Male'},'chi2':{'name':'Angela' ,'age': 8 ,'gender': 'Female'}}\n"
   ]
  },
  {
   "cell_type": "markdown",
   "metadata": {},
   "source": [
    "10. Add new child to above dictionary. Print out the name of all children."
   ]
  },
  {
   "cell_type": "code",
   "execution_count": 27,
   "metadata": {},
   "outputs": [
    {
     "name": "stdout",
     "output_type": "stream",
     "text": [
      "Timmy\n",
      "Angela\n",
      "Wesley\n"
     ]
    }
   ],
   "source": [
    "parent['chi3'] = {'name':'Wesley' ,'age': 20 ,'gender': 'Male'}\n",
    "for i in parent:\n",
    "    print(parent[i]['name'])"
   ]
  },
  {
   "cell_type": "markdown",
   "metadata": {},
   "source": [
    "11. Create a Test Scores program that gets the name of students and test score from a user. Then, generate a list of students who passed and a list of students who failed where passing test score is 60 or above. "
   ]
  },
  {
   "cell_type": "code",
   "execution_count": 25,
   "metadata": {},
   "outputs": [
    {
     "name": "stdout",
     "output_type": "stream",
     "text": [
      "Please enter the students name: tim\n",
      "Please enter their test score: 60\n",
      "type \"n\" to quit, hit return to continue\n",
      "Please enter the students name: bill\n",
      "Please enter their test score: 59\n",
      "type \"n\" to quit, hit return to continue\n",
      "Please enter the students name: kim\n",
      "Please enter their test score: 34\n",
      "type \"n\" to quit, hit return to continue\n",
      "Please enter the students name: ed\n",
      "Please enter their test score: 89\n",
      "type \"n\" to quit, hit return to continuen\n",
      "the following studends failed score less than 60 {'bill': 59, 'kim': 34}\n",
      "the following studends passed score more than 60 {'tim': 60, 'ed': 89}\n"
     ]
    }
   ],
   "source": [
    "x='y'\n",
    "fail_dict={}\n",
    "pass_dict={}\n",
    "while x != 'n':\n",
    "    student = input(f'Please enter the students name: ')\n",
    "    score = int(input(f'Please enter their test score: '))\n",
    "    if score < 60:\n",
    "        fail_dict[student]=score\n",
    "    else:\n",
    "        pass_dict[student]=score\n",
    "    x = input('type \"n\" to quit, hit return to continue')\n",
    "    \n",
    "print(f'the following studends failed score less than 60 {fail_dict}')\n",
    "print(f'the following studends passed score more than 60 {pass_dict}')"
   ]
  },
  {
   "cell_type": "markdown",
   "metadata": {},
   "source": [
    "12. Create a Word Counter program that gets a string of text from a user and then counts the number of times a word occrs in the string. \n",
    "\n",
    "The output should look something like this:\n",
    "\n",
    "    The Word Counter Program\n",
    "    \n",
    "    Enter a text string: \n",
    "    Humpty Dumpty sat on a wall, Humpty Dumpty had a great fall. All the king’s horses and all the king’s men couldn’t put Humpty together again.\n",
    "\n",
    "    a : 2\n",
    "    again : 1\n",
    "    all : 2\n",
    "    and : 1\n",
    "    couldn’t : 1\n",
    "    dumpty : 2\n",
    "    fall : 1\n",
    "    great : 1\n",
    "    had : 1\n",
    "    horses : 1\n",
    "    humpty : 3\n",
    "    king’s : 2\n",
    "    men : 1\n",
    "    on : 1\n",
    "    put : 1\n",
    "    sat : 1\n",
    "    the : 2\n",
    "    together : 1\n",
    "    wall : 1\n",
    "\n",
    "    There were total 26 words in the text string   "
   ]
  },
  {
   "cell_type": "code",
   "execution_count": 15,
   "metadata": {},
   "outputs": [
    {
     "name": "stdout",
     "output_type": "stream",
     "text": [
      "Enter the words: Humpty Dumpty sat on a wall, Humpty Dumpty had a great fall. All the king's horses and all the king's men Couldn't put Humpty together again.\n",
      "a : 2\n",
      "again : 1\n",
      "all : 2\n",
      "and : 1\n",
      "couldn't : 1\n",
      "dumpty : 2\n",
      "fall : 1\n",
      "great : 1\n",
      "had : 1\n",
      "horses : 1\n",
      "humpty : 3\n",
      "king's : 2\n",
      "men : 1\n",
      "on : 1\n",
      "put : 1\n",
      "sat : 1\n",
      "the : 2\n",
      "together : 1\n",
      "wall : 1\n",
      "There are a total of 26 words.\n",
      "Would you like to do it again?  type \"n\" to quit: n\n"
     ]
    }
   ],
   "source": [
    "#Humpty Dumpty sat on a wall, Humpty Dumpty had a great fall. All the king's horses and all the king's men Couldn't put Humpty together again.\n",
    "def split_function():\n",
    "    punc = '!@#$%^&*().,{}[]\"'\n",
    "    word_string = input('Enter the words: ')\n",
    "    word_string = word_string.lower()\n",
    "    word_string_dict={}\n",
    "    for i in word_string:\n",
    "        if i in punc:\n",
    "            word_string = word_string.replace(i,'')\n",
    "            \n",
    "    \n",
    "    word_string = word_string.split()\n",
    "    word_string.sort()\n",
    "\n",
    "    for i in word_string:\n",
    "        if i not in word_string_dict:\n",
    "            word_string_dict[i] = 0\n",
    "        word_string_dict[i] += 1\n",
    "    \n",
    "    for i in word_string_dict:\n",
    "        print(f'{i} : {word_string_dict[i]}')\n",
    "    word_count_total = word_string_dict.values()\n",
    "    total = sum(word_count_total)\n",
    "    print(f'There are a total of {total} words.')\n",
    "    go = 'y'\n",
    "    while go != 'n':\n",
    "        go = input(f'Would you like to do it again? Hit return type \"n\" to quit: ')\n",
    "        if go == 'n':\n",
    "            continue\n",
    "        else:\n",
    "            split_function()\n",
    "split_function()"
   ]
  },
  {
   "cell_type": "code",
   "execution_count": null,
   "metadata": {},
   "outputs": [],
   "source": []
  }
 ],
 "metadata": {
  "kernelspec": {
   "display_name": "Python 3",
   "language": "python",
   "name": "python3"
  },
  "language_info": {
   "codemirror_mode": {
    "name": "ipython",
    "version": 3
   },
   "file_extension": ".py",
   "mimetype": "text/x-python",
   "name": "python",
   "nbconvert_exporter": "python",
   "pygments_lexer": "ipython3",
   "version": "3.8.8"
  }
 },
 "nbformat": 4,
 "nbformat_minor": 4
}
