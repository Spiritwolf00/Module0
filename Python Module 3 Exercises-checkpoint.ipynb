{
 "cells": [
  {
   "cell_type": "markdown",
   "metadata": {},
   "source": [
    "Exercise 1. Ask for a color and store that answer. \n",
    "If the answer is grey then print out you found Victor's favorite color.\n",
    "Otherwise print out the color is not Victor's favorite color."
   ]
  },
  {
   "cell_type": "code",
   "execution_count": 5,
   "metadata": {},
   "outputs": [
    {
     "name": "stdout",
     "output_type": "stream",
     "text": [
      "What is Victors favorite color?: blue\n",
      "The color you chose Blue is NOT victors favorite color!\n",
      "What is Victors favorite color?: orange\n",
      "The color you chose Orange is NOT victors favorite color!\n",
      "What is Victors favorite color?: purple\n",
      "The color you chose Purple is NOT victors favorite color!\n",
      "What is Victors favorite color?: green\n",
      "The color you chose Green is NOT victors favorite color!\n",
      "What is Victors favorite color?: grey\n",
      "The color you chose Grey is victors favorite color!\n"
     ]
    }
   ],
   "source": [
    "def what_color(rcolor = 'Grey'):\n",
    "    colorchoice = input(f'What is Victors favorite color?: ')\n",
    "    colorchoice = colorchoice.title()\n",
    "    if colorchoice == 'Grey':\n",
    "        print(f'The color you chose {colorchoice} is victors favorite color!')\n",
    "    else:\n",
    "        print(f'The color you chose {colorchoice} is NOT victors favorite color!')\n",
    "        what_color()\n",
    "\n",
    "what_color()\n",
    "             "
   ]
  },
  {
   "cell_type": "markdown",
   "metadata": {},
   "source": [
    "Exercise 2. Modify code from above exercise 1 and add in more conditions for other colors such as red, green, blue and then, write statements for them. "
   ]
  },
  {
   "cell_type": "code",
   "execution_count": 12,
   "metadata": {},
   "outputs": [
    {
     "name": "stdout",
     "output_type": "stream",
     "text": [
      "What is Victors favorite color?: green\n",
      "The color Green is a great guess, but not right.  keep trying.\n",
      "What is Victors favorite color?: grey\n",
      "The color you chose Grey is victors favorite color!\n"
     ]
    }
   ],
   "source": [
    "def what_color(rcolor = 'Grey'):\n",
    "    colorchoice = input(f'What is Victors favorite color?: ')\n",
    "    colorchoice = colorchoice.title()\n",
    "    if colorchoice == 'Grey':\n",
    "        print(f'The color you chose {colorchoice} is victors favorite color!')\n",
    "    elif colorchoice == 'Blue' or 'Red' or 'Green':\n",
    "        print(f'The color {colorchoice} is a great guess, but not right.  keep trying.')\n",
    "        what_color()\n",
    "    else:\n",
    "        print(f'The color you chose {colorchoice} is NOT victors favorite color!')\n",
    "        what_color()\n",
    "\n",
    "what_color()"
   ]
  },
  {
   "cell_type": "markdown",
   "metadata": {},
   "source": [
    "Exercise 3. Ask for an exam score and store that number. If the number is greater than 100, then print out 'You cannot have an exam score higher than 100'. If the number doesn't exceeed 100 but is greater than or equal to 75, then print out 'You did great on your exam!'. Otherwise if they scored lower than 75, then print out 'You need to study harder'."
   ]
  },
  {
   "cell_type": "code",
   "execution_count": 118,
   "metadata": {},
   "outputs": [
    {
     "name": "stdout",
     "output_type": "stream",
     "text": [
      "What is the exam score you received: 45.5\n",
      "You need to study harder\n"
     ]
    }
   ],
   "source": [
    "def exam_final():\n",
    "    scorein = float(input(f'What is the exam score you received: '))\n",
    "    if scorein < 0 or scorein > 100:\n",
    "        print(f'You can not have an exam score of {scorein} please enter a number between 0 and 100')\n",
    "    elif scorein > 74:\n",
    "        print(f'You did great on your exam!')\n",
    "    else:\n",
    "        scorein < 75\n",
    "        print(f'You need to study harder')\n",
    "\n",
    "\n",
    "exam_final()    "
   ]
  },
  {
   "cell_type": "markdown",
   "metadata": {},
   "source": [
    "Exercise 4. \n",
    "Define two functions: \n",
    "    - a function that takes 3 arguements and returns the sum of three arguements\n",
    "    - a function that takes 2 arguements and returns the result of 1st arguement multiplied by 2nd arguement\n",
    "\n",
    "Then tell the user to choose option 1 to add three numbers or option 2 to multiply two numbers.\n",
    "If the user choose option 1 then call the addition function, otherwise if they choose option 2 then call the mulitplication function.  If the user choose anything other than option 1 or 2, then generate a friendly error messsage"
   ]
  },
  {
   "cell_type": "code",
   "execution_count": 72,
   "metadata": {},
   "outputs": [
    {
     "name": "stdout",
     "output_type": "stream",
     "text": [
      "Would you like to add 3 number or multiply 2 numbers?: type 1 to add and 2 to multiply: 5\n",
      "You didn't follow the directions try again.\n",
      "Would you like to add 3 number or multiply 2 numbers?: type 1 to add and 2 to multiply: 9\n",
      "You didn't follow the directions try again.\n",
      "Would you like to add 3 number or multiply 2 numbers?: type 1 to add and 2 to multiply: 2\n",
      "enter the first number: 10\n",
      "enter the second number: 155\n",
      "The numbers 10, 155 multiplied together equals 1550\n"
     ]
    }
   ],
   "source": [
    "def add_three(a, b, c):\n",
    "    add_total = a + b + c\n",
    "    return add_total\n",
    "\n",
    "\n",
    "def multiply(m, m2):\n",
    "    multiply_total = m * m2\n",
    "    return multiply_total\n",
    "\n",
    "\n",
    "def choose_adventure():\n",
    "    choice = input(f'Would you like to add 3 number or multiply 2 numbers?: type 1 to add and 2 to multiply: ')\n",
    "    if choice == '1':\n",
    "        a = int(input(f'enter the first number: '))\n",
    "        b = int(input(f'enter the second number: '))\n",
    "        c = int(input(f'enter the third number: '))\n",
    "        print(f'The numbers {a}, {b}, {c} added together equals {add_three(a, b, c)}')\n",
    "    elif choice == '2':\n",
    "        m = int(input(f'enter the first number: '))\n",
    "        m2 = int(input(f'enter the second number: '))\n",
    "        print(f'The numbers {m}, {m2} multiplied together equals {multiply(m, m2)}')\n",
    "    else:\n",
    "        print(f\"You didn't follow the directions try again.\")\n",
    "        choose_adventure()\n",
    "\n",
    "\n",
    "\n",
    "choose_adventure()"
   ]
  },
  {
   "cell_type": "markdown",
   "metadata": {},
   "source": [
    "Exercise 5. \n",
    "Write a function to convert a test score to a grade where  \n",
    " - 90 - 100: A\n",
    " - 80 - 89:  B\n",
    " - 70 - 79:  C\n",
    " - 60 - 69:  D\n",
    " - < 60   :  F\n",
    " \n",
    "If a score is not between 0 and 100 then print out an error message. In the program, ask the user for a score and then call your function. "
   ]
  },
  {
   "cell_type": "code",
   "execution_count": 119,
   "metadata": {},
   "outputs": [
    {
     "name": "stdout",
     "output_type": "stream",
     "text": [
      "Please enter your score between 0 and 100 to see your grade: 88\n",
      "Great! You received a B!\n"
     ]
    }
   ],
   "source": [
    "def test_grade():\n",
    "    grade = float(input(f'Please enter your score between 0 and 100 to see your grade: '))\n",
    "    if grade > 89 and grade < 101:\n",
    "        print(f'Congratulations! You received an A!')\n",
    "    elif grade < 90 and grade > 79:\n",
    "        print(f'Great! You received a B!')\n",
    "    elif grade < 80 and grade > 69:\n",
    "        print(f'Ok. You received a C.')\n",
    "    elif grade < 70 and grade > 59:\n",
    "        print(f'Uh-oh. You received a D.')\n",
    "    elif grade < 60 and grade >= 0:\n",
    "        print(f'Ouch! You received a E.')\n",
    "    else:\n",
    "        print('Your score must be between 0 and 100')\n",
    "        \n",
    "test_grade()"
   ]
  },
  {
   "cell_type": "markdown",
   "metadata": {},
   "source": [
    "Exercise 6. Write a program to compute discounts for customers.  \n",
    "- For retail customers, \n",
    "    - if invoice total is greater than \\$100 then discount rate is 10\\%, otherwise no discount \n",
    "\n",
    "- For wholesale customers,\n",
    "    - if invoice total is greater than \\$500 then discount rate is 30\\%, otherwise discount rate is 20\\%\n",
    "    \n",
    "Get the type of customer and the invoice total from the user."
   ]
  },
  {
   "cell_type": "code",
   "execution_count": 144,
   "metadata": {},
   "outputs": [
    {
     "name": "stdout",
     "output_type": "stream",
     "text": [
      "Are you a retail or wholesale customer? please type retail or wholesale: retail\n",
      "Hello retail customer. What is the total cost of your invoice: $150\n",
      "You have earned a disscount. Your new invoice cost is $135.0\n"
     ]
    }
   ],
   "source": [
    "def retail_customer(m):\n",
    "    multiply_total = m * .9\n",
    "    return multiply_total\n",
    "\n",
    "def wholesale_customer(m):\n",
    "    multiply_total = m * .7\n",
    "    return multiply_total\n",
    "\n",
    "def invoice_calc():\n",
    "    cust_type = input(f'Are you a retail or wholesale customer? please type retail or wholesale: ')\n",
    "\n",
    "    if cust_type.lower() == 'retail':\n",
    "        invoice_cost = float(input(f'Hello retail customer. What is the total cost of your invoice: $'))\n",
    "        m = invoice_cost\n",
    "        if invoice_cost > 100:\n",
    "            print(f'You have earned a disscount. Your new invoice cost is ${round(retail_customer(m),2)}')\n",
    "        elif invoice_cost < 101 and invoice_cost > 0:\n",
    "            print(f'You did not earn a disscount. Your new invoice cost is ${round(invoice_cost,2)}')\n",
    "        else:\n",
    "            print('You did not spend any money!')\n",
    "    elif cust_type.lower() == 'wholesale':\n",
    "        invoice_cost = float(input(f'Hello wholesale customer. What is the total cost of your invoice: $'))\n",
    "        m = invoice_cost\n",
    "        if invoice_cost > 500:\n",
    "            print(f'You have earned a bigger disscount. Your new invoice cost is ${round(wholesale_customer(m),2)}')\n",
    "        elif invoice_cost < 501 and invoice_cost > 0:\n",
    "            print(f'You have earned the standard disscount. Your new invoice cost is ${round(invoice_cost * .8,2)}')\n",
    "        else:\n",
    "            print('You did not spend any money!')\n",
    "    else:\n",
    "        print('Please be specific, you need to enter retail or wholesale.')\n",
    "        invoice_calc()\n",
    "invoice_calc()"
   ]
  },
  {
   "cell_type": "markdown",
   "metadata": {},
   "source": [
    "Exercise 7: Write a function that accepts two parameters (a and b) and returns a result of a/b.  In this function, try to catch any exception error.  Then, write a program to get two numbers from a user, call your function using these two numbers, and print out the result in a friendly format.  All input and print statements must be done in the main program. Repeat the process until user wants to quit the program. "
   ]
  },
  {
   "cell_type": "code",
   "execution_count": 139,
   "metadata": {},
   "outputs": [
    {
     "name": "stdout",
     "output_type": "stream",
     "text": [
      "66.67 is a valid output\n"
     ]
    },
    {
     "data": {
      "text/plain": [
       "66.67"
      ]
     },
     "execution_count": 139,
     "metadata": {},
     "output_type": "execute_result"
    }
   ],
   "source": [
    "import sys\n",
    "def divide_two_numbers(a,b):\n",
    "    try:\n",
    "        divide = round(a/b,2)\n",
    "        print(f'{divide} is a valid output')\n",
    "    except:\n",
    "        print(\"***ERROR: \", sys.exc_info()[0], \"occurred.\")\n",
    "        print('dont divide by 0')\n",
    "    return divide\n",
    "\n",
    "\n",
    "divide_two_numbers(200,3)"
   ]
  },
  {
   "cell_type": "code",
   "execution_count": 140,
   "metadata": {},
   "outputs": [
    {
     "name": "stdout",
     "output_type": "stream",
     "text": [
      "something about dividing with two numbers\n",
      "Enter the first integer: 543\n",
      "Enter the second integer: 158\n",
      "3.44 is a valid output\n",
      "Would you like to complete another division? type yes or no: no\n",
      "Have a nice day.\n"
     ]
    }
   ],
   "source": [
    "def keep_going():\n",
    "    print('something about dividing with two numbers')\n",
    "\n",
    "    keep_going = True\n",
    "    while keep_going:\n",
    "        a = float(input(f'Enter the first integer: '))\n",
    "        b = float(input(f'Enter the second integer: '))\n",
    "        divide_two_numbers(a,b)\n",
    "        ans = input('Would you like to complete another division? type yes or no: ')\n",
    "        if (ans.lower() != 'yes'):\n",
    "            keep_going = False\n",
    "            print('Have a nice day.')\n",
    "keep_going()"
   ]
  },
  {
   "cell_type": "markdown",
   "metadata": {},
   "source": [
    "Exercise 8: Write a function to generate a multiplication table. Then write a program to ask a user if user wants to generate a  mutiplication table for a random number or provide a number. The program should continue to run until a user wants to quit."
   ]
  },
  {
   "cell_type": "code",
   "execution_count": 1,
   "metadata": {},
   "outputs": [
    {
     "name": "stdout",
     "output_type": "stream",
     "text": [
      "1x6=6\n",
      "2x6=12\n",
      "3x6=18\n",
      "4x6=24\n",
      "5x6=30\n",
      "6x6=36\n",
      "7x6=42\n",
      "8x6=48\n",
      "9x6=54\n",
      "10x6=60\n"
     ]
    },
    {
     "data": {
      "text/plain": [
       "60"
      ]
     },
     "execution_count": 1,
     "metadata": {},
     "output_type": "execute_result"
    }
   ],
   "source": [
    "def mult_tbl(num1):\n",
    "    a=1\n",
    "    while a <= 10:\n",
    "        c = a * num1\n",
    "        print(f'{a}x{num1}={c}')\n",
    "        a += 1\n",
    "    return c\n",
    "mult_tbl(6)\n"
   ]
  },
  {
   "cell_type": "code",
   "execution_count": 3,
   "metadata": {},
   "outputs": [
    {
     "name": "stdout",
     "output_type": "stream",
     "text": [
      "Would you like to see a random multiplication table from 1 to 10 or a specific table?\n",
      "Please enter \"Y\" for a random table, or enter a number to generate a specific table: y\n",
      "1x3=3\n",
      "2x3=6\n",
      "3x3=9\n",
      "4x3=12\n",
      "5x3=15\n",
      "6x3=18\n",
      "7x3=21\n",
      "8x3=24\n",
      "9x3=27\n",
      "10x3=30\n",
      "Would you like to see another multiplication table? type yes or no: Yes\n",
      "Please enter \"Y\" for a random table, or enter a number to generate a specific table: 3\n",
      "1x3=3\n",
      "2x3=6\n",
      "3x3=9\n",
      "4x3=12\n",
      "5x3=15\n",
      "6x3=18\n",
      "7x3=21\n",
      "8x3=24\n",
      "9x3=27\n",
      "10x3=30\n",
      "Would you like to see another multiplication table? type yes or no: Yes\n",
      "Please enter \"Y\" for a random table, or enter a number to generate a specific table: 1\n",
      "1x1=1\n",
      "2x1=2\n",
      "3x1=3\n",
      "4x1=4\n",
      "5x1=5\n",
      "6x1=6\n",
      "7x1=7\n",
      "8x1=8\n",
      "9x1=9\n",
      "10x1=10\n",
      "Would you like to see another multiplication table? type yes or no: 2\n",
      "Have a nice day.\n"
     ]
    }
   ],
   "source": [
    "import random as rand\n",
    "\n",
    "\n",
    "def get_num():\n",
    "    choice = input(f'Please enter \"Y\" for a random table, or enter a number to generate a specific table: ')\n",
    "    if choice == 'y'or choice == 'Y':\n",
    "        choice = rand.randint(1,10)\n",
    "        mult_tbl(choice)\n",
    "    elif choice != 'y'or choice == 'Y':\n",
    "        choice = int(choice)\n",
    "        mult_tbl(choice)\n",
    "\n",
    "def keep_going():\n",
    "    print('Would you like to see a random multiplication table from 1 to 10 or a specific table?')\n",
    "    keep_going = True\n",
    "    while keep_going:\n",
    "        get_num()\n",
    "        ans = input('Would you like to see another multiplication table? type yes or no: ')\n",
    "        if (ans.lower() != 'yes'):\n",
    "            keep_going = False\n",
    "            print('Have a nice day.')\n",
    "keep_going()\n",
    "    "
   ]
  },
  {
   "cell_type": "markdown",
   "metadata": {},
   "source": [
    "Exercise 9: Write a function to draw a right-triangle using a number as a character.Then, write a program to generate a random number between 1 and 9, call your function with that random number.  The output should look something like this:\n",
    "\n",
    "        base: 5\n",
    "        5\n",
    "        55\n",
    "        555\n",
    "        5555\n",
    "        55555\n",
    "\n",
    "\n",
    "        base: 8\n",
    "        8\n",
    "        88\n",
    "        888\n",
    "        8888\n",
    "        88888\n",
    "        888888\n",
    "        8888888\n",
    "        88888888"
   ]
  },
  {
   "cell_type": "code",
   "execution_count": 98,
   "metadata": {},
   "outputs": [],
   "source": [
    "import random as rand\n",
    "def tri_gen(numb):\n",
    "    print(f'Base: {numb}')\n",
    "    incnum = 1\n",
    "    while numb >= incnum:\n",
    "        print(f'{numb}'*incnum)\n",
    "        incnum += 1\n"
   ]
  },
  {
   "cell_type": "code",
   "execution_count": 99,
   "metadata": {},
   "outputs": [
    {
     "name": "stdout",
     "output_type": "stream",
     "text": [
      "Base: 4\n",
      "4\n",
      "44\n",
      "444\n",
      "4444\n"
     ]
    }
   ],
   "source": [
    "def rand_gen():\n",
    "    rand_num = rand.randint(1,9)\n",
    "    tri_gen(rand_num)\n",
    "    \n",
    "rand_gen()"
   ]
  },
  {
   "cell_type": "markdown",
   "metadata": {},
   "source": [
    "Exercise 10: Modify function from exercise 9 to show output like this:\n",
    "\n",
    "        base: 5\n",
    "            5\n",
    "           55\n",
    "          555\n",
    "         5555 \n",
    "        55555\n",
    "        \n",
    "        base: 8\n",
    "               8\n",
    "              88\n",
    "             888\n",
    "            8888\n",
    "           88888\n",
    "          888888\n",
    "         8888888\n",
    "        88888888 "
   ]
  },
  {
   "cell_type": "code",
   "execution_count": 117,
   "metadata": {},
   "outputs": [],
   "source": [
    "import random as rand\n",
    "def backtri_gen(numb):\n",
    "    print(f'Base: {numb}')\n",
    "    incnum = 1\n",
    "    space = numb-1\n",
    "    while numb >= incnum:\n",
    "        print(f'{\" \"*space}'+f'{numb}'*incnum)\n",
    "        incnum += 1\n",
    "        space -= 1\n"
   ]
  },
  {
   "cell_type": "code",
   "execution_count": 116,
   "metadata": {},
   "outputs": [
    {
     "name": "stdout",
     "output_type": "stream",
     "text": [
      "Base: 9\n",
      "        9\n",
      "       99\n",
      "      999\n",
      "     9999\n",
      "    99999\n",
      "   999999\n",
      "  9999999\n",
      " 99999999\n",
      "999999999\n"
     ]
    }
   ],
   "source": [
    "def rand_gen():\n",
    "    rand_num = rand.randint(1,9)\n",
    "    backtri_gen(rand_num)\n",
    "    \n",
    "rand_gen()"
   ]
  },
  {
   "cell_type": "code",
   "execution_count": null,
   "metadata": {},
   "outputs": [],
   "source": []
  }
 ],
 "metadata": {
  "kernelspec": {
   "display_name": "Python 3",
   "language": "python",
   "name": "python3"
  },
  "language_info": {
   "codemirror_mode": {
    "name": "ipython",
    "version": 3
   },
   "file_extension": ".py",
   "mimetype": "text/x-python",
   "name": "python",
   "nbconvert_exporter": "python",
   "pygments_lexer": "ipython3",
   "version": "3.8.8"
  }
 },
 "nbformat": 4,
 "nbformat_minor": 4
}
