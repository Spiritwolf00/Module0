{
 "cells": [
  {
   "cell_type": "markdown",
   "metadata": {},
   "source": [
    "1. Print out a data type of a variable?"
   ]
  },
  {
   "cell_type": "code",
   "execution_count": 1,
   "metadata": {},
   "outputs": [
    {
     "data": {
      "text/plain": [
       "str"
      ]
     },
     "execution_count": 1,
     "metadata": {},
     "output_type": "execute_result"
    }
   ],
   "source": [
    "#Data types are string, integers floats, etc.\n",
    "type_variable = '123' #this variable is a string\n",
    "type(type_variable)"
   ]
  },
  {
   "cell_type": "markdown",
   "metadata": {},
   "source": [
    "2. Round 4.5667 to the nearest hundreth using a build-in function, round()."
   ]
  },
  {
   "cell_type": "code",
   "execution_count": 3,
   "metadata": {},
   "outputs": [
    {
     "data": {
      "text/plain": [
       "4.567"
      ]
     },
     "execution_count": 3,
     "metadata": {},
     "output_type": "execute_result"
    }
   ],
   "source": [
    "num = 4.5667 #integer variable\n",
    "round(num,2)"
   ]
  },
  {
   "cell_type": "markdown",
   "metadata": {},
   "source": [
    "3. Convert \"657\" to an integer data type"
   ]
  },
  {
   "cell_type": "code",
   "execution_count": 6,
   "metadata": {},
   "outputs": [
    {
     "name": "stdout",
     "output_type": "stream",
     "text": [
      "657\n"
     ]
    },
    {
     "data": {
      "text/plain": [
       "int"
      ]
     },
     "execution_count": 6,
     "metadata": {},
     "output_type": "execute_result"
    }
   ],
   "source": [
    "x = int('657') #converting to an int. I could have also just typed x = 657\n",
    "print(x) #printing x\n",
    "type(x) #verify that x is in fact an int."
   ]
  },
  {
   "cell_type": "markdown",
   "metadata": {},
   "source": [
    "4. Write a function to calculate the miles per gallon.\n",
    "Get a miles driven and gallons used from a user and call your function to calculate the miles per gallon. "
   ]
  },
  {
   "cell_type": "code",
   "execution_count": 17,
   "metadata": {},
   "outputs": [
    {
     "name": "stdout",
     "output_type": "stream",
     "text": [
      "Please enter the number of miles you drove: 300\n",
      "Please enter the number of gallons in your tank: 10\n",
      "Your MPG is: 30.0\n"
     ]
    },
    {
     "data": {
      "text/plain": [
       "30.0"
      ]
     },
     "execution_count": 17,
     "metadata": {},
     "output_type": "execute_result"
    }
   ],
   "source": [
    "\n",
    "def mpg_function(miles,gallons):\n",
    "    miles = int(input('Please enter the number of miles you drove: '))\n",
    "    gallons = int(input('Please enter the number of gallons in your tank: '))\n",
    "    milespergallon = miles/gallons\n",
    "    print(f'Your MPG is: {milespergallon}') \n",
    "    #return milespergallon dont need return for this function\n",
    "\n",
    "mpg_function(miles,gallons) \n",
    "    "
   ]
  },
  {
   "cell_type": "markdown",
   "metadata": {},
   "source": [
    "5. Enhance your function from exercise 3. Additionally, get a gas price per gallon from a user and write a program to compute the total gas cost and cost per mile. \n",
    "\n",
    "The output should look something like this:\n",
    "\n",
    "    Enter miles driven:            150\n",
    "    Enter gallons of gas used:     15\n",
    "    Enter cost per gallon:          3\n",
    "\n",
    "    Miles Per Gallon:   10.0\n",
    "    Total Gas Cost:     45.0\n",
    "    Cost per Mile:      0.3\n"
   ]
  },
  {
   "cell_type": "code",
   "execution_count": 13,
   "metadata": {},
   "outputs": [
    {
     "name": "stdout",
     "output_type": "stream",
     "text": [
      "Please enter the number of miles you drove: 400\n",
      "Please enter the number of gallons you used: 12\n",
      "Please enter the price per gallon: 3\n",
      "Your MPG is: $33.33\n",
      "Your Gas Cost is: 36\n",
      "Your Gas Cost is: $0.09\n"
     ]
    }
   ],
   "source": [
    "def mpg_function():\n",
    "    miles = int(input('Please enter the number of miles you drove: '))\n",
    "    gallons = int(input('Please enter the number of gallons you used: '))\n",
    "    price = int(input('Please enter the price per gallon: '))\n",
    "    milespergallon = miles/gallons\n",
    "    round(milespergallon,2)\n",
    "    print(f'Your MPG is: ${round(milespergallon,2)}')\n",
    "    totcost = gallons*price\n",
    "    print(f'Your Gas Cost is: {totcost}')\n",
    "    costpm = totcost/miles\n",
    "    print(f'Your Gas Cost is: ${round(costpm,2)}')\n",
    "\n",
    "\n",
    "mpg_function() "
   ]
  },
  {
   "cell_type": "markdown",
   "metadata": {},
   "source": [
    "6. Write a function called multiply_two() that accepts two parameters. The function should print a message like '15 + 2 = 17'.  Randomly generate two numbers between 1 and 100, then call the function with the two random numbers."
   ]
  },
  {
   "cell_type": "code",
   "execution_count": 17,
   "metadata": {},
   "outputs": [
    {
     "name": "stdout",
     "output_type": "stream",
     "text": [
      "Two random numbers added together 89+45=134\n"
     ]
    }
   ],
   "source": [
    "import random as rand\n",
    "\n",
    "def multiply_two():\n",
    "    x = rand.randint(1,100)\n",
    "    y = rand.randint(1,100)\n",
    "    total = x+y\n",
    "    print(f'Two random numbers added together {x}+{y}={total}')\n",
    "\n",
    "\n",
    "multiply_two()"
   ]
  },
  {
   "cell_type": "markdown",
   "metadata": {},
   "source": [
    "7. Write a function called make_shirt() that accepts a size and the text of a message. The function should print a sentence summarizing the size of the shirt and the message printed on it. The default shirt size is large and default message is 'I love Python!' Make a default size shirt with a message, a medium shirt with the default message, and a shirt of any size with a different message."
   ]
  },
  {
   "cell_type": "code",
   "execution_count": 4,
   "metadata": {},
   "outputs": [
    {
     "name": "stdout",
     "output_type": "stream",
     "text": [
      "Welcome to \"The Shirt Shop\" today's default size is:large! \n",
      "\tThe message on the shirt is I love Python!\n",
      "\n",
      "Welcome to \"The Shirt Shop\" today's default size is:Medium! \n",
      "\tThe message on the shirt is I love Python!\n",
      "\n",
      "Welcome to \"The Shirt Shop\" today's default size is:Any size! \n",
      "\tThe message on the shirt is \"Lets Play Some 5e!\"\n",
      "\n",
      "Welcome to \"The Shirt Shop\" today's default size is:large! \n",
      "\tThe message on the shirt is I love Python!\n",
      "\n"
     ]
    }
   ],
   "source": [
    "#This function will set a default function that can be changed if desired. But retains the default properties.\n",
    "def make_shirt(size='large', mess = 'I love Python!'):\n",
    "    print(f'Welcome to \"The Shirt Shop\" today\\'s default size is:{size}! \\n\\tThe message on the shirt is {mess}\\n')\n",
    "\n",
    "\n",
    "make_shirt()\n",
    "make_shirt('Medium')\n",
    "make_shirt('Any size','\"Lets Play Some 5e!\"')\n",
    "make_shirt()"
   ]
  },
  {
   "cell_type": "markdown",
   "metadata": {},
   "source": [
    "8. Create a function for a multiplication table.  Get a number from a user and then call you function which produces a multiplication table for that number.\n",
    "The output should look something like this:\n",
    "\n",
    "        Enter a number: 3\n",
    "        3 X 1 = 3\n",
    "        3 X 2 = 6\n",
    "        3 X 3 = 9\n",
    "        3 X 4 = 12\n",
    "        3 X 5 = 15\n",
    "        3 X 6 = 18\n",
    "        3 X 7 = 21\n",
    "        3 X 8 = 24\n",
    "        3 X 9 = 27\n",
    "        "
   ]
  },
  {
   "cell_type": "code",
   "execution_count": 7,
   "metadata": {},
   "outputs": [
    {
     "name": "stdout",
     "output_type": "stream",
     "text": [
      "Enter a number: 6\n",
      "6 X 1 = 6\n",
      "6 X 2 = 12\n",
      "6 X 3 = 18\n",
      "6 X 4 = 24\n",
      "6 X 5 = 30\n",
      "6 X 6 = 36\n",
      "6 X 7 = 42\n",
      "6 X 8 = 48\n",
      "6 X 9 = 54\n"
     ]
    }
   ],
   "source": [
    "def multiply_num():#This would be easier with a loop or a list or both.\n",
    "    innum = int(input('Enter a number: '))\n",
    "    ans = innum*1\n",
    "    print(f'{innum} X 1 = {ans}')\n",
    "    ans = innum*2\n",
    "    print(f'{innum} X 2 = {ans}')\n",
    "    ans = innum*3\n",
    "    print(f'{innum} X 3 = {ans}')\n",
    "    ans = innum*4\n",
    "    print(f'{innum} X 4 = {ans}')          \n",
    "    ans = innum*5\n",
    "    print(f'{innum} X 5 = {ans}')          \n",
    "    ans = innum*6\n",
    "    print(f'{innum} X 6 = {ans}')\n",
    "    ans = innum*7\n",
    "    print(f'{innum} X 7 = {ans}')\n",
    "    ans = innum*8\n",
    "    print(f'{innum} X 8 = {ans}')\n",
    "    ans = innum*9\n",
    "    print(f'{innum} X 9 = {ans}')    \n",
    "    \n",
    "multiply_num()"
   ]
  },
  {
   "cell_type": "markdown",
   "metadata": {},
   "source": [
    "9. Write a function that accepts a string and returns a string that is \n",
    "    - without any leading nor trailing blanks\n",
    "    - converts to all capital letters\n",
    "    - and replaces all blanks with a period(.).  \n",
    "\n",
    "Write a program to accept a string from a user then call your function and display the original string and changed string.  \n",
    "\n",
    "The output should look something like this:\n",
    "\n",
    "        Enter a text: may your dreams come true\n",
    "        \n",
    "        Original Text: may your dreams come true\n",
    "        New Text: MAY.YOUR.DREAMS.COME.TRUE"
   ]
  },
  {
   "cell_type": "code",
   "execution_count": 56,
   "metadata": {},
   "outputs": [
    {
     "name": "stdout",
     "output_type": "stream",
     "text": [
      "Enter a message:     ok I think we have it.  please see     \n",
      "New message: OK.I.THINK.WE.HAVE.IT...PLEASE.SEE\n",
      "Original message:     ok I think we have it.  please see     \n"
     ]
    }
   ],
   "source": [
    "def messages():\n",
    "    inmessage = input('Enter a message: ') #input a user message\n",
    "    origmessage = inmessage #make origmessage so that orig message will be unchanged. \n",
    "    inmessage = inmessage.upper() #change to all upper case\n",
    "    inmessage = inmessage.strip() #strip blanks\n",
    "    inmessage = inmessage.replace(\" \", \".\") #replace space with .\n",
    "    print(f'New message: {inmessage}')\n",
    "    print(f'Original message: {origmessage}')\n",
    "messages()   "
   ]
  },
  {
   "cell_type": "markdown",
   "metadata": {},
   "source": [
    "10. Write a function that returns a randomly selected character from a passed string. Write a program to accept a string from a user then call your function and display the original string and selected character.\n",
    "\n",
    "The output should look something like this:\n",
    "\n",
    "        Enter a text: functions\n",
    "        Original Text:\tfunctions\n",
    "        Random character:\ts"
   ]
  },
  {
   "cell_type": "code",
   "execution_count": 14,
   "metadata": {},
   "outputs": [
    {
     "name": "stdout",
     "output_type": "stream",
     "text": [
      "Enter a text: abcdefghi\n",
      "Original Text: abcdefghi\n",
      "Random character: b\n"
     ]
    }
   ],
   "source": [
    "import random as rand\n",
    "def text_chng():\n",
    "    intxt = input('Enter a text: ') #this is the text input from a user\n",
    "    print(f'Original Text: {intxt}') #print the original text provided by a user\n",
    "    textlength = len(intxt) #verify the the number of positions in the string [list] starts with 0\n",
    "    setrandnum = rand.randint(0,textlength-1) #pull a random number from within the list [list] and set that number to the var\n",
    "    print(f'Random character: {intxt[setrandnum]}')#re-call the user garneted text and only print the list numbers corresponding position.\n",
    "text_chng()"
   ]
  },
  {
   "cell_type": "code",
   "execution_count": null,
   "metadata": {},
   "outputs": [],
   "source": []
  }
 ],
 "metadata": {
  "kernelspec": {
   "display_name": "Python 3",
   "language": "python",
   "name": "python3"
  },
  "language_info": {
   "codemirror_mode": {
    "name": "ipython",
    "version": 3
   },
   "file_extension": ".py",
   "mimetype": "text/x-python",
   "name": "python",
   "nbconvert_exporter": "python",
   "pygments_lexer": "ipython3",
   "version": "3.8.8"
  }
 },
 "nbformat": 4,
 "nbformat_minor": 4
}
