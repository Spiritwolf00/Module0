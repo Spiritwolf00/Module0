{
 "cells": [
  {
   "cell_type": "markdown",
   "metadata": {},
   "source": [
    "Exercise 1: Make an empty list and call it names"
   ]
  },
  {
   "cell_type": "code",
   "execution_count": null,
   "metadata": {},
   "outputs": [],
   "source": [
    "names=[]"
   ]
  },
  {
   "cell_type": "markdown",
   "metadata": {},
   "source": [
    "Exercise 2: Make names filled with names of 5 people: Hannah, Victor, Sam, James, Sarah"
   ]
  },
  {
   "cell_type": "code",
   "execution_count": 4,
   "metadata": {},
   "outputs": [],
   "source": [
    "names=[ 'Hannah', 'Victor', 'Sam', 'James', 'Sarah']"
   ]
  },
  {
   "cell_type": "code",
   "execution_count": 5,
   "metadata": {},
   "outputs": [
    {
     "name": "stdout",
     "output_type": "stream",
     "text": [
      "['Hannah', 'Victor', 'Sam', 'James', 'Sarah']\n"
     ]
    }
   ],
   "source": [
    "print (names)"
   ]
  },
  {
   "cell_type": "markdown",
   "metadata": {},
   "source": [
    "Exercise 3: Make names sort in reverse. Print out the list using a for-loop"
   ]
  },
  {
   "cell_type": "code",
   "execution_count": 64,
   "metadata": {},
   "outputs": [
    {
     "name": "stdout",
     "output_type": "stream",
     "text": [
      "['Victor', 'Sarah', 'Sam', 'James', 'Hannah']\n",
      "Victor\n",
      "Sarah\n",
      "Sam\n",
      "James\n",
      "Hannah\n"
     ]
    }
   ],
   "source": [
    "print(names)\n",
    "names.sort(reverse =True)\n",
    "for i in names:\n",
    "    print(i)\n"
   ]
  },
  {
   "cell_type": "markdown",
   "metadata": {},
   "source": [
    "Exercise 4: Make names sorted alphabetically. Print out the list using while loop"
   ]
  },
  {
   "cell_type": "code",
   "execution_count": 65,
   "metadata": {},
   "outputs": [
    {
     "name": "stdout",
     "output_type": "stream",
     "text": [
      "['Victor', 'Sarah', 'Sam', 'James', 'Hannah']\n",
      "['Hannah', 'James', 'Sam', 'Sarah', 'Victor']\n"
     ]
    }
   ],
   "source": [
    "print(names)\n",
    "names.sort()\n",
    "print(names)"
   ]
  },
  {
   "cell_type": "markdown",
   "metadata": {},
   "source": [
    "Exercise 5: Pull out the fourth item from names and print it out"
   ]
  },
  {
   "cell_type": "code",
   "execution_count": 14,
   "metadata": {},
   "outputs": [
    {
     "name": "stdout",
     "output_type": "stream",
     "text": [
      "['Hannah', 'James', 'Sam', 'Sarah', 'Victor']\n",
      "Sarah\n",
      "['Sarah']\n"
     ]
    }
   ],
   "source": [
    "print(names)\n",
    "print(names[3])\n",
    "print(names[3:4])"
   ]
  },
  {
   "cell_type": "markdown",
   "metadata": {},
   "source": [
    "Exercise 6: Pull out the first item from names and print it out"
   ]
  },
  {
   "cell_type": "code",
   "execution_count": 15,
   "metadata": {},
   "outputs": [
    {
     "name": "stdout",
     "output_type": "stream",
     "text": [
      "['Hannah', 'James', 'Sam', 'Sarah', 'Victor']\n",
      "Hannah\n",
      "['Hannah']\n"
     ]
    }
   ],
   "source": [
    "print(names)\n",
    "print(names[0])\n",
    "print(names[0:1])"
   ]
  },
  {
   "cell_type": "markdown",
   "metadata": {},
   "source": [
    "Exercise 7: Make a variable named fruits that contains a string \"Apples, Oranges, Bananas, Pineapples, Persimmons, Dragonfruit\" and make it into a list splitting it by the commas."
   ]
  },
  {
   "cell_type": "code",
   "execution_count": 22,
   "metadata": {},
   "outputs": [
    {
     "name": "stdout",
     "output_type": "stream",
     "text": [
      "['Apples, Oranges, Bananas, Pineapples, Persimmons, Dragonfruit']\n",
      "['Apples', ' Oranges', ' Bananas', ' Pineapples', ' Persimmons', ' Dragonfruit']\n"
     ]
    }
   ],
   "source": [
    "fruits_str = 'Apples, Oranges, Bananas, Pineapples, Persimmons, Dragonfruit'\n",
    "fruits = [fruits_str]\n",
    "print(fruits)\n",
    "fruits = fruits_str.split(',')\n",
    "print(fruits)"
   ]
  },
  {
   "cell_type": "markdown",
   "metadata": {},
   "source": [
    "Exercise 8: Create a list of the first 10 square numbers. i.e. the square of each integer from 1 to 10. "
   ]
  },
  {
   "cell_type": "code",
   "execution_count": 69,
   "metadata": {},
   "outputs": [
    {
     "name": "stdout",
     "output_type": "stream",
     "text": [
      "[1, 2, 3, 4, 5, 6, 7, 8, 9, 10]\n",
      "[1, 4, 9, 16, 25, 36, 49, 64, 81, 100]\n"
     ]
    }
   ],
   "source": [
    "num_lst = [1,2,3,4,5,6,7,8,9,10]\n",
    "print(num_lst)\n",
    "def square(num_lst):\n",
    "    ret = []\n",
    "    for i in num_lst:\n",
    "        ret.append(i ** 2)\n",
    "    print(ret)\n",
    "square(num_lst)\n"
   ]
  },
  {
   "cell_type": "markdown",
   "metadata": {},
   "source": [
    "Exercise 9: Create a multiplication table from 1 to 10"
   ]
  },
  {
   "cell_type": "code",
   "execution_count": 110,
   "metadata": {},
   "outputs": [
    {
     "name": "stdout",
     "output_type": "stream",
     "text": [
      "Multiplication table:#1\n",
      "1x1=1\n",
      "1x2=2\n",
      "1x3=3\n",
      "1x4=4\n",
      "1x5=5\n",
      "1x6=6\n",
      "1x7=7\n",
      "1x8=8\n",
      "1x9=9\n",
      "1x10=10\n",
      "********************\n",
      "\n",
      "Multiplication table:#2\n",
      "2x1=2\n",
      "2x2=4\n",
      "2x3=6\n",
      "2x4=8\n",
      "2x5=10\n",
      "2x6=12\n",
      "2x7=14\n",
      "2x8=16\n",
      "2x9=18\n",
      "2x10=20\n",
      "********************\n",
      "\n",
      "Multiplication table:#3\n",
      "3x1=3\n",
      "3x2=6\n",
      "3x3=9\n",
      "3x4=12\n",
      "3x5=15\n",
      "3x6=18\n",
      "3x7=21\n",
      "3x8=24\n",
      "3x9=27\n",
      "3x10=30\n",
      "********************\n",
      "\n",
      "Multiplication table:#4\n",
      "4x1=4\n",
      "4x2=8\n",
      "4x3=12\n",
      "4x4=16\n",
      "4x5=20\n",
      "4x6=24\n",
      "4x7=28\n",
      "4x8=32\n",
      "4x9=36\n",
      "4x10=40\n",
      "********************\n",
      "\n",
      "Multiplication table:#5\n",
      "5x1=5\n",
      "5x2=10\n",
      "5x3=15\n",
      "5x4=20\n",
      "5x5=25\n",
      "5x6=30\n",
      "5x7=35\n",
      "5x8=40\n",
      "5x9=45\n",
      "5x10=50\n",
      "********************\n",
      "\n",
      "Multiplication table:#6\n",
      "6x1=6\n",
      "6x2=12\n",
      "6x3=18\n",
      "6x4=24\n",
      "6x5=30\n",
      "6x6=36\n",
      "6x7=42\n",
      "6x8=48\n",
      "6x9=54\n",
      "6x10=60\n",
      "********************\n",
      "\n",
      "Multiplication table:#7\n",
      "7x1=7\n",
      "7x2=14\n",
      "7x3=21\n",
      "7x4=28\n",
      "7x5=35\n",
      "7x6=42\n",
      "7x7=49\n",
      "7x8=56\n",
      "7x9=63\n",
      "7x10=70\n",
      "********************\n",
      "\n",
      "Multiplication table:#8\n",
      "8x1=8\n",
      "8x2=16\n",
      "8x3=24\n",
      "8x4=32\n",
      "8x5=40\n",
      "8x6=48\n",
      "8x7=56\n",
      "8x8=64\n",
      "8x9=72\n",
      "8x10=80\n",
      "********************\n",
      "\n",
      "Multiplication table:#9\n",
      "9x1=9\n",
      "9x2=18\n",
      "9x3=27\n",
      "9x4=36\n",
      "9x5=45\n",
      "9x6=54\n",
      "9x7=63\n",
      "9x8=72\n",
      "9x9=81\n",
      "9x10=90\n",
      "********************\n",
      "\n",
      "Multiplication table:#10\n",
      "10x1=10\n",
      "10x2=20\n",
      "10x3=30\n",
      "10x4=40\n",
      "10x5=50\n",
      "10x6=60\n",
      "10x7=70\n",
      "10x8=80\n",
      "10x9=90\n",
      "10x10=100\n",
      "********************\n",
      "\n",
      "Done\n"
     ]
    }
   ],
   "source": [
    "for outer in [1,2,3,4,5,6,7,8,9,10]:\n",
    "    print(f'Multiplication table:#{outer}')\n",
    "    for inner in range(1,11):\n",
    "        yup = outer * inner\n",
    "        print(f'{outer}x{inner}={yup}')\n",
    "    print(\"*\" * 20)\n",
    "    print()\n",
    "\n",
    "print(\"Done\")   "
   ]
  },
  {
   "cell_type": "markdown",
   "metadata": {},
   "source": [
    "Exercise 10: Write a program that gets test scores from a user and then calculates and displays the average of the scores that have been enter. The output of the program should show the original scores and the average. "
   ]
  },
  {
   "cell_type": "code",
   "execution_count": 88,
   "metadata": {},
   "outputs": [
    {
     "name": "stdout",
     "output_type": "stream",
     "text": [
      "Please enter the test score: 45\n",
      "add another score? \"n\" to quit hit, return to keep going.\n",
      "Please enter the test score: 67\n",
      "add another score? \"n\" to quit hit, return to keep going.\n",
      "Please enter the test score: 89\n",
      "add another score? \"n\" to quit hit, return to keep going.\n",
      "Please enter the test score: 98\n",
      "add another score? \"n\" to quit hit, return to keep going.\n",
      "Please enter the test score: 100\n",
      "add another score? \"n\" to quit hit, return to keep going.n\n",
      "The average test score of [45, 67, 89, 98, 100] is 79.8.\n"
     ]
    }
   ],
   "source": [
    "def get_test():\n",
    "    go = 'y'\n",
    "    scores = []\n",
    "    while go != 'n':\n",
    "        add_score = int(input(f'Please enter the test score: '))\n",
    "        scores.append(add_score)\n",
    "        go = input(f'Add another score? \"n\" to quit, hit return to keep going.')\n",
    "    average = sum(scores)/len(scores)\n",
    "    print(f'The average test score of {scores} is {average}.')\n",
    "get_test()    \n",
    "    "
   ]
  },
  {
   "cell_type": "markdown",
   "metadata": {},
   "source": [
    "Challenge:\n",
    "Write a program that maintains a list of movies, and the user can list all the movies, add a movie to the list, or delete a movie from the list.\n",
    "\n",
    "Example\n",
    "\n",
    "###### COMMAND MENU\n",
    "```\n",
    "list - list all movies\n",
    "add - add a movie\n",
    "del - delete a movie\n",
    "exit - exit program \n",
    "```\n",
    "\n",
    "###### Command: list\n",
    "``` \n",
    " 1. Toy Story\n",
    " 2. Lion King\n",
    " 3. Frozen\n",
    " ```\n",
    "\n",
    "###### Command: add\n",
    " ```\n",
    " Name: Snow White\n",
    " Snow White was added.\n",
    " ```\n",
    "\n",
    "###### Command: del\n",
    "```\n",
    " Number: 3\n",
    " Frozen was deleted.```\n",
    "\n"
   ]
  },
  {
   "cell_type": "code",
   "execution_count": 146,
   "metadata": {},
   "outputs": [
    {
     "name": "stdout",
     "output_type": "stream",
     "text": [
      "Please choose one of the following options:\n",
      "list - list all movies\n",
      "add - add a movie\n",
      "del - delete a movie\n",
      "exit - exit program\n",
      "add\n",
      "Command: add\n",
      "\n",
      "Name: Snow White\n",
      "Snow White was added.\n",
      "Please choose one of the following options:\n",
      "list - list all movies\n",
      "add - add a movie\n",
      "del - delete a movie\n",
      "exit - exit program\n",
      "add\n",
      "Command: add\n",
      "\n",
      "Name: Peter Pan\n",
      "Peter Pan was added.\n",
      "Please choose one of the following options:\n",
      "list - list all movies\n",
      "add - add a movie\n",
      "del - delete a movie\n",
      "exit - exit program\n",
      "del\n",
      "Command: del\n",
      "\n",
      "Number: 3\n",
      "Snow White was removed.\n",
      "Please choose one of the following options:\n",
      "list - list all movies\n",
      "add - add a movie\n",
      "del - delete a movie\n",
      "exit - exit program\n",
      "list\n",
      "Command: list\n",
      "\n",
      "1. Toy Story\n",
      "2. Lion King\n",
      "3. Frozen\n",
      "4. Peter Pan\n",
      "Please choose one of the following options:\n",
      "list - list all movies\n",
      "add - add a movie\n",
      "del - delete a movie\n",
      "exit - exit program\n",
      "exit\n",
      "Thank you for using the movie program.\n"
     ]
    }
   ],
   "source": [
    "movie_lst = ['Toy Story','Lion King','Frozen']\n",
    "def show_lst():\n",
    "    print('Command: list\\n')\n",
    "    counter = 1\n",
    "    for i in movie_lst:\n",
    "        print(f'{counter}. {i}')\n",
    "        counter += 1\n",
    "    cmd_menu()\n",
    "\n",
    "def add_lst():\n",
    "    print('Command: add\\n')\n",
    "    add_movie = input(f'Name: ')\n",
    "    movie_lst.append(add_movie.title())\n",
    "    print(f'{add_movie} was added.')\n",
    "    cmd_menu()\n",
    "\n",
    "def del_lst():\n",
    "    print('Command: del\\n')\n",
    "    del_movie = int(input(f'Number: '))\n",
    "    print(f'{movie_lst[del_movie]} was removed.')    \n",
    "    movie_lst.pop(del_movie)\n",
    "    cmd_menu()\n",
    "    \n",
    "def cmd_menu():\n",
    "    choice = input(f'Please choose one of the following options:\\n'\n",
    "                'list - list all movies\\n'\n",
    "                'add - add a movie\\n'\n",
    "                'del - delete a movie\\n'\n",
    "                'exit - exit program\\n')\n",
    "    if choice == 'list':\n",
    "        show_lst()\n",
    "    elif choice == 'add':\n",
    "        add_lst()\n",
    "    elif choice == 'del':\n",
    "        del_lst()\n",
    "    else:\n",
    "        print('Thank you for using the movie program.')\n",
    "\n",
    "cmd_menu()        \n",
    "\n",
    "\n",
    "        "
   ]
  },
  {
   "cell_type": "code",
   "execution_count": null,
   "metadata": {},
   "outputs": [],
   "source": []
  }
 ],
 "metadata": {
  "kernelspec": {
   "display_name": "Python 3",
   "language": "python",
   "name": "python3"
  },
  "language_info": {
   "codemirror_mode": {
    "name": "ipython",
    "version": 3
   },
   "file_extension": ".py",
   "mimetype": "text/x-python",
   "name": "python",
   "nbconvert_exporter": "python",
   "pygments_lexer": "ipython3",
   "version": "3.8.8"
  }
 },
 "nbformat": 4,
 "nbformat_minor": 4
}
